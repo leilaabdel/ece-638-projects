{
  "nbformat": 4,
  "nbformat_minor": 0,
  "metadata": {
    "colab": {
      "name": "la-dip-project-2-chinese-ocr.ipynb",
      "provenance": [],
      "collapsed_sections": [],
      "toc_visible": true,
      "mount_file_id": "1HjwbVDSLzLXdma_Bdc0IDtE0QeIsaY6v",
      "authorship_tag": "ABX9TyN5aGoU5vOJIQqhXX1Z+58y",
      "include_colab_link": true
    },
    "kernelspec": {
      "name": "python3",
      "display_name": "Python 3"
    }
  },
  "cells": [
    {
      "cell_type": "markdown",
      "metadata": {
        "id": "view-in-github",
        "colab_type": "text"
      },
      "source": [
        "<a href=\"https://colab.research.google.com/github/leilaabdel/ece-638-projects/blob/master/project-2/la_dip_project_2_chinese_ocr.ipynb\" target=\"_parent\"><img src=\"https://colab.research.google.com/assets/colab-badge.svg\" alt=\"Open In Colab\"/></a>"
      ]
    },
    {
      "cell_type": "code",
      "metadata": {
        "id": "L-0gfUeThzv6",
        "colab_type": "code",
        "colab": {
          "base_uri": "https://localhost:8080/",
          "height": 558
        },
        "outputId": "a5ab379c-bcde-4eb6-f80c-e1d094465784"
      },
      "source": [
        "!pip install opencv-wrapper"
      ],
      "execution_count": null,
      "outputs": [
        {
          "output_type": "stream",
          "text": [
            "Collecting opencv-wrapper\n",
            "  Downloading https://files.pythonhosted.org/packages/a6/35/07177ec8074623831493c793643b6ec8c444fbc0d7f73a9dfdba486ce65a/opencv-wrapper-0.2.3.tar.gz\n",
            "Collecting numpy<=1.16.2\n",
            "\u001b[?25l  Downloading https://files.pythonhosted.org/packages/35/d5/4f8410ac303e690144f0a0603c4b8fd3b986feb2749c435f7cdbb288f17e/numpy-1.16.2-cp36-cp36m-manylinux1_x86_64.whl (17.3MB)\n",
            "\u001b[K     |████████████████████████████████| 17.3MB 1.2MB/s \n",
            "\u001b[?25hCollecting opencv-python<=4.0.1\n",
            "\u001b[?25l  Downloading https://files.pythonhosted.org/packages/37/49/874d119948a5a084a7ebe98308214098ef3471d76ab74200f9800efeef15/opencv_python-4.0.0.21-cp36-cp36m-manylinux1_x86_64.whl (25.4MB)\n",
            "\u001b[K     |████████████████████████████████| 25.4MB 108kB/s \n",
            "\u001b[?25hRequirement already satisfied: dataclasses in /usr/local/lib/python3.6/dist-packages (from opencv-wrapper) (0.7)\n",
            "Building wheels for collected packages: opencv-wrapper\n",
            "  Building wheel for opencv-wrapper (setup.py) ... \u001b[?25l\u001b[?25hdone\n",
            "  Created wheel for opencv-wrapper: filename=opencv_wrapper-0.2.3-py2.py3-none-any.whl size=18581 sha256=586e5d67084568d5edbada21acfbf442e9560e6788ee660c2c724ba085f62b96\n",
            "  Stored in directory: /root/.cache/pip/wheels/74/fc/22/03106b3bcb2516e69317562a2aa4ceb94b0d5813a448edd928\n",
            "Successfully built opencv-wrapper\n",
            "\u001b[31mERROR: umap-learn 0.4.6 has requirement numpy>=1.17, but you'll have numpy 1.16.2 which is incompatible.\u001b[0m\n",
            "\u001b[31mERROR: datascience 0.10.6 has requirement folium==0.2.1, but you'll have folium 0.8.3 which is incompatible.\u001b[0m\n",
            "\u001b[31mERROR: albumentations 0.1.12 has requirement imgaug<0.2.7,>=0.2.5, but you'll have imgaug 0.2.9 which is incompatible.\u001b[0m\n",
            "Installing collected packages: numpy, opencv-python, opencv-wrapper\n",
            "  Found existing installation: numpy 1.18.5\n",
            "    Uninstalling numpy-1.18.5:\n",
            "      Successfully uninstalled numpy-1.18.5\n",
            "  Found existing installation: opencv-python 4.1.2.30\n",
            "    Uninstalling opencv-python-4.1.2.30:\n",
            "      Successfully uninstalled opencv-python-4.1.2.30\n",
            "Successfully installed numpy-1.16.2 opencv-python-4.0.0.21 opencv-wrapper-0.2.3\n"
          ],
          "name": "stdout"
        },
        {
          "output_type": "display_data",
          "data": {
            "application/vnd.colab-display-data+json": {
              "pip_warning": {
                "packages": [
                  "numpy"
                ]
              }
            }
          },
          "metadata": {
            "tags": []
          }
        }
      ]
    },
    {
      "cell_type": "code",
      "metadata": {
        "id": "jEGlzzSdRufB",
        "colab_type": "code",
        "colab": {}
      },
      "source": [
        "import tensorflow as tf\n",
        "import cv2\n",
        "import PIL\n",
        "from google.colab.patches import cv2_imshow\n",
        "import numpy as np\n",
        "import imutils"
      ],
      "execution_count": null,
      "outputs": []
    },
    {
      "cell_type": "markdown",
      "metadata": {
        "id": "6M3RQCAW0t7p",
        "colab_type": "text"
      },
      "source": [
        "# Get the Data"
      ]
    },
    {
      "cell_type": "code",
      "metadata": {
        "id": "M0UH-vyRR8OF",
        "colab_type": "code",
        "colab": {}
      },
      "source": [
        "!cp '/content/drive/My Drive/Masters-Program/courses/ece-638-digital-image-processing/Project-2/data/ChineseAlphabet.zip' . \n",
        "!cp '/content/drive/My Drive/Masters-Program/courses/ece-638-digital-image-processing/Project-2/data/SampleTestImages.zip' ."
      ],
      "execution_count": null,
      "outputs": []
    },
    {
      "cell_type": "code",
      "metadata": {
        "id": "sLpUZwaHqVuQ",
        "colab_type": "code",
        "colab": {}
      },
      "source": [
        "!cp '/content/drive/My Drive/Masters-Program/courses/ece-638-digital-image-processing/Project-2/data/my-data.png' ."
      ],
      "execution_count": null,
      "outputs": []
    },
    {
      "cell_type": "code",
      "metadata": {
        "id": "4u8xcYttSIa9",
        "colab_type": "code",
        "colab": {
          "base_uri": "https://localhost:8080/",
          "height": 72
        },
        "outputId": "bf66e323-a3a7-444d-9576-8482ec10afa2"
      },
      "source": [
        "!unzip '/content/ChineseAlphabet.zip'\n",
        "!unzip '/content/SampleTestImages.zip'"
      ],
      "execution_count": null,
      "outputs": [
        {
          "output_type": "stream",
          "text": [
            "unzip:  cannot find or open /content/ChineseAlphabet.zip, /content/ChineseAlphabet.zip.zip or /content/ChineseAlphabet.zip.ZIP.\n",
            "unzip:  cannot find or open /content/SampleTestImages.zip, /content/SampleTestImages.zip.zip or /content/SampleTestImages.zip.ZIP.\n"
          ],
          "name": "stdout"
        }
      ]
    },
    {
      "cell_type": "markdown",
      "metadata": {
        "id": "8-af1Fc70wkA",
        "colab_type": "text"
      },
      "source": [
        "# Preprocess the Data"
      ]
    },
    {
      "cell_type": "code",
      "metadata": {
        "id": "ryAoEnOrhrmZ",
        "colab_type": "code",
        "colab": {}
      },
      "source": [
        "import cv2\n",
        "import opencv_wrapper as cvw\n",
        "\n",
        "\n",
        "IMAGE = \"/content/my-data.png\"\n",
        "\n",
        "def find_rois(img):\n",
        "  print(\"Using the last 13 letters of the alphabet!\")\n",
        "  image = cv2.imread(img)\n",
        "  gray = cvw.bgr2gray(image)\n",
        "\n",
        "  img = cv2.threshold(gray, 127, 255, cv2.THRESH_BINARY)[1]\n",
        "\n",
        "  if np.count_nonzero(gray)/(gray.shape[0] * gray.shape[1]) < 0.9:\n",
        "    gray = 255 - gray\n",
        "\n",
        "  thresh = cvw.threshold_otsu(gray, inverse=True)\n",
        "\n",
        "\n",
        "\n",
        "  # dilation\n",
        "  img_dilation = cvw.dilate(thresh, 5)\n",
        "\n",
        "  # Find contours\n",
        "  contours = cvw.find_external_contours(img_dilation)\n",
        "  # Map contours to bounding rectangles, using bounding_rect property\n",
        "  rects = map(lambda c: c.bounding_rect, contours)\n",
        "  # Sort rects by top-left x (rect.x == rect.tl.x)\n",
        "  sorted_rects = sorted(rects, key=lambda r: r.x)\n",
        "\n",
        "  # Distance threshold\n",
        "  dt = 1\n",
        "\n",
        "  # List of final, joined rectangles\n",
        "  final_rects = [sorted_rects[0]]\n",
        "\n",
        "  for rect in sorted_rects[1:]:\n",
        "      prev_rect = final_rects[-1]\n",
        "\n",
        "      # Shift rectangle `dt` back, to find out if they overlap\n",
        "      shifted_rect = cvw.Rect(rect.tl.x - dt, rect.tl.y, rect.width, rect.height)\n",
        "      intersection = cvw.rect_intersection(prev_rect, shifted_rect)\n",
        "      if intersection is not None:\n",
        "          # Join the two rectangles\n",
        "          min_y = min((prev_rect.tl.y, rect.tl.y))\n",
        "          max_y = max((prev_rect.bl.y, rect.bl.y))\n",
        "          max_x = max((prev_rect.br.x, rect.br.x))\n",
        "          width = max_x - prev_rect.tl.x\n",
        "          height = max_y - min_y\n",
        "          new_rect = cvw.Rect(prev_rect.tl.x, min_y, width, height)\n",
        "          # Add new rectangle to final list, making it the new prev_rect\n",
        "          # in the next iteration\n",
        "          final_rects[-1] = new_rect\n",
        "      else:\n",
        "          # If no intersection, add the box\n",
        "          final_rects.append(rect)\n",
        "\n",
        "  for rect in sorted_rects:\n",
        "      cvw.rectangle(image, rect, cvw.Color.MAGENTA, line_style=cvw.LineStyle.DASHED)\n",
        "\n",
        "  for rect in final_rects:\n",
        "      cvw.rectangle(image, rect, cvw.Color.GREEN, thickness=2)\n",
        "\n",
        "  cv2.imwrite(\"result.png\", image)\n",
        "\n",
        "  return final_rects\n",
        "\n",
        "\n",
        "rois = find_rois(IMAGE)\n",
        "# draw_rois(IMAGE, rois)"
      ],
      "execution_count": null,
      "outputs": []
    },
    {
      "cell_type": "code",
      "metadata": {
        "id": "w782lMy0dYZ3",
        "colab_type": "code",
        "colab": {}
      },
      "source": [
        "def filter_rois(rois , im_path , threshold=0.001):\n",
        "  image = cv2.imread(im_path)\n",
        "  filtered_rects = []\n",
        "  for rect in rois:\n",
        "    if rect.area > threshold * image.shape[0] * image.shape[1]:\n",
        "      filtered_rects.append(rect)\n",
        "\n",
        "  return filtered_rects\n",
        "\n",
        "filtered_rects = filter_rois(rois , IMAGE)\n",
        "\n"
      ],
      "execution_count": null,
      "outputs": []
    },
    {
      "cell_type": "code",
      "metadata": {
        "id": "3kpHpqIJesny",
        "colab_type": "code",
        "colab": {}
      },
      "source": [
        "def draw_rois(im_path , roi_rects):\n",
        "  image = cv2.imread(im_path)\n",
        "  gray = cvw.bgr2gray(image)\n",
        "\n",
        "  # Correct for black background\n",
        "  if np.count_nonzero(gray)/(gray.shape[0] * gray.shape[1]) < 0.9:\n",
        "    image = 255 - image\n",
        "\n",
        "\n",
        "  for rect in roi_rects:\n",
        "      cvw.rectangle(image, rect, cvw.Color.GREEN, thickness=2)\n",
        "\n",
        "  cv2.imwrite(\"filtered-result.png\", image)\n",
        "\n",
        "draw_rois(IMAGE , filtered_rects)"
      ],
      "execution_count": null,
      "outputs": []
    },
    {
      "cell_type": "code",
      "metadata": {
        "id": "wQdOxp2KfviN",
        "colab_type": "code",
        "colab": {}
      },
      "source": [
        "import tensorflow as tf\n",
        "def get_embeddings(filtered_rects , IMAGE_PATH, mode=\"TEST\" , filtersize=5 , slide=1 , pooling=0):\n",
        "\n",
        "  assert filtersize >= 2\n",
        "  assert slide > 0\n",
        "  assert pooling == 1 or pooling == 0\n",
        "  cropped_ims = []\n",
        "\n",
        "  for i , rect in enumerate(filtered_rects):\n",
        "    image = cv2.imread(IMAGE_PATH , cv2.IMREAD_GRAYSCALE)\n",
        "    image = 255 - image\n",
        "    if np.count_nonzero(image)/(image.shape[0] * image.shape[1]) < 0.9:\n",
        "      image = 255 - image\n",
        "    crop_img = image[rect.y:rect.y+rect.height , rect.x:rect.x+rect.width]\n",
        "    crop_img = cv2.threshold(crop_img, 50, 255, cv2.THRESH_BINARY)[1]\n",
        "\n",
        "    resized_image = cv2.resize(crop_img, (28, 28)) \n",
        "    cropped_ims += [np.asarray(resized_image)]\n",
        "    #cv2.imwrite(f\"cropped-roi-{i}-inverted.png\", resized_image)\n",
        "\n",
        "\n",
        "\n",
        "  cropped_ims = np.asarray(cropped_ims, dtype='float32')\n",
        "  X_train = np.zeros((1 ,28 , 28))\n",
        "\n",
        "  for i in range(1):\n",
        "    X_train = np.concatenate((X_train , cropped_ims))\n",
        "\n",
        "  X_train = np.asarray(X_train)\n",
        "  X_train_n = X_train[np.newaxis, 1: , : , : , np.newaxis]\n",
        "\n",
        "  X_train_n = X_train_n / 255.\n",
        "\n",
        "\n",
        "  #### GET THE PROJECTIONS ####\n",
        "   \n",
        "    \n",
        "  translations = {}\n",
        "  letter_ims = {}\n",
        "  alphabet = ['M', 'N' , 'O' , 'P' , 'Q' , 'R' , 'S' , 'T' , 'U' , \n",
        "              'V' , 'W' , 'X' , 'Y']\n",
        "\n",
        "  X = []\n",
        "\n",
        "  cropped_ims = cropped_ims / 255.0\n",
        "\n",
        "  if mode == 'TRAIN':\n",
        "    for i in range(len(alphabet)):\n",
        "\n",
        "      if pooling == 0:\n",
        "        down_sampled = tf.nn.avg_pool2d(X_train_n[: , i] , filtersize , slide , padding=\"VALID\")\n",
        "      else:\n",
        "        down_sampled = tf.nn.max_pool2d(X_train_n[: , i] , filtersize , slide , padding=\"VALID\")\n",
        "\n",
        "      translations[alphabet[i]] = np.squeeze(down_sampled)\n",
        "      letter_ims[alphabet[i]] =  np.squeeze(X_train_n[: , i])\n",
        "\n",
        "\n",
        "    return translations , letter_ims\n",
        "\n",
        "  elif mode =='TEST':\n",
        "\n",
        "    for i in range(len(filtered_rects)):\n",
        "\n",
        "      if pooling == 0:\n",
        "        down_sampled = tf.nn.avg_pool2d(X_train_n[: , i] , filtersize , slide , padding=\"VALID\")\n",
        "      else:\n",
        "        down_sampled = tf.nn.max_pool2d(X_train_n[: , i] , filtersize , slide , padding=\"VALID\")\n",
        "\n",
        "      X += [down_sampled]\n",
        "\n",
        "    return  np.squeeze(np.array(X)) , cropped_ims / 255.\n",
        "\n",
        "  else:\n",
        "     return -1 \n",
        "\n",
        "LETTER_VALUES , train_ims = get_embeddings(filtered_rects , 'my-data.png' , mode='TRAIN')"
      ],
      "execution_count": null,
      "outputs": []
    },
    {
      "cell_type": "code",
      "metadata": {
        "id": "TR8d_eQ8DMZd",
        "colab_type": "code",
        "colab": {}
      },
      "source": [
        "def predict(X_test , translations, cutoff=3.5):\n",
        "  print(X_test.shape)\n",
        "  if len(X_test.shape) == 2:\n",
        "\n",
        "    dists = []\n",
        "    eng_letters = []\n",
        "\n",
        "    for keys, values in translations.items():\n",
        "      dist = np.linalg.norm((X_test - values) , 2) \n",
        "      dists.append(dist)\n",
        "      eng_letters.append(keys)\n",
        "\n",
        "    min_dist = np.argmin(dists)\n",
        "\n",
        "    if np.amin(dists) < cutoff:\n",
        "      return eng_letters[min_dist]\n",
        "\n",
        "    else:\n",
        "      return \"I don't know this letter\"\n",
        "\n",
        "  elif len(X_test.shape) == 3:\n",
        "    predicted_sequence = []\n",
        "    for test_im in X_test:\n",
        "      dists = []\n",
        "      eng_letters = []\n",
        "\n",
        "      for keys, values in translations.items():\n",
        "        dist = np.linalg.norm((test_im - values) , 2) \n",
        "        dists.append(dist)\n",
        "        eng_letters.append(keys)\n",
        "\n",
        "      min_dist = np.argmin(dists)\n",
        "\n",
        "      if np.amin(dists) < cutoff:\n",
        "        predicted_sequence +=  [eng_letters[min_dist]]\n",
        "\n",
        "      else:\n",
        "        predicted_sequence += ['-1']\n",
        "\n",
        "    return predicted_sequence\n",
        "\n",
        "\n"
      ],
      "execution_count": null,
      "outputs": []
    },
    {
      "cell_type": "code",
      "metadata": {
        "id": "9sNa9eVNVNYg",
        "colab_type": "code",
        "colab": {}
      },
      "source": [
        "TEST_PATH = 'noisy-image.png'\n",
        "\n",
        "rois = find_rois(TEST_PATH)\n",
        "filtered_rects_test = filter_rois(rois , TEST_PATH)\n",
        "draw_rois(TEST_PATH , filtered_rects_test)\n",
        "embedds , test_ims = get_embeddings(filtered_rects_test, IMAGE_PATH=TEST_PATH)"
      ],
      "execution_count": null,
      "outputs": []
    },
    {
      "cell_type": "code",
      "metadata": {
        "id": "BQeOZ8n3AFE3",
        "colab_type": "code",
        "colab": {
          "base_uri": "https://localhost:8080/",
          "height": 265
        },
        "outputId": "919da756-d7d3-4434-af80-d1587fdfc9a4"
      },
      "source": [
        "plt.imshow(embedds[1])\n",
        "plt.axis('off')\n",
        "embedds[1].shape"
      ],
      "execution_count": null,
      "outputs": [
        {
          "output_type": "execute_result",
          "data": {
            "text/plain": [
              "(24, 24)"
            ]
          },
          "metadata": {
            "tags": []
          },
          "execution_count": 13
        },
        {
          "output_type": "display_data",
          "data": {
            "image/png": "[encoded data removed]",
            "text/plain": [
              "<Figure size 432x288 with 1 Axes>"
            ]
          },
          "metadata": {
            "tags": [],
            "needs_background": "light"
          }
        }
      ]
    },
    {
      "cell_type": "code",
      "metadata": {
        "id": "kfEnkwJY--Jb",
        "colab_type": "code",
        "colab": {
          "base_uri": "https://localhost:8080/",
          "height": 265
        },
        "outputId": "a4b1355e-0d34-4fac-af0a-2e6f66a81ed5"
      },
      "source": [
        "plt.imshow(LETTER_VALUES['X'])\n",
        "plt.axis('off')"
      ],
      "execution_count": null,
      "outputs": [
        {
          "output_type": "execute_result",
          "data": {
            "text/plain": [
              "(-0.5, 23.5, 23.5, -0.5)"
            ]
          },
          "metadata": {
            "tags": []
          },
          "execution_count": 14
        },
        {
          "output_type": "display_data",
          "data": {
            "image/png": "[encoded data removed]",
            "text/plain": [
              "<Figure size 432x288 with 1 Axes>"
            ]
          },
          "metadata": {
            "tags": [],
            "needs_background": "light"
          }
        }
      ]
    },
    {
      "cell_type": "code",
      "metadata": {
        "id": "t0G8kg1LhW9L",
        "colab_type": "code",
        "colab": {
          "base_uri": "https://localhost:8080/",
          "height": 283
        },
        "outputId": "d142a960-64c0-41df-abe1-590011c432ae"
      },
      "source": [
        "plt.imshow(test_ims[13])"
      ],
      "execution_count": null,
      "outputs": [
        {
          "output_type": "execute_result",
          "data": {
            "text/plain": [
              "<matplotlib.image.AxesImage at 0x7fa639f3d908>"
            ]
          },
          "metadata": {
            "tags": []
          },
          "execution_count": 15
        },
        {
          "output_type": "display_data",
          "data": {
            "image/png": "[encoded data removed]",
            "text/plain": [
              "<Figure size 432x288 with 1 Axes>"
            ]
          },
          "metadata": {
            "tags": [],
            "needs_background": "light"
          }
        }
      ]
    },
    {
      "cell_type": "code",
      "metadata": {
        "id": "yhvG3vvCNAkg",
        "colab_type": "code",
        "colab": {
          "base_uri": "https://localhost:8080/",
          "height": 283
        },
        "outputId": "3b7cce49-8dcd-4a42-b2b5-977e01d6aac8"
      },
      "source": [
        "plt.imshow(train_ims['T'])"
      ],
      "execution_count": null,
      "outputs": [
        {
          "output_type": "execute_result",
          "data": {
            "text/plain": [
              "<matplotlib.image.AxesImage at 0x7fa648092e80>"
            ]
          },
          "metadata": {
            "tags": []
          },
          "execution_count": 16
        },
        {
          "output_type": "display_data",
          "data": {
            "image/png": "[encoded data removed]",
            "text/plain": [
              "<Figure size 432x288 with 1 Axes>"
            ]
          },
          "metadata": {
            "tags": [],
            "needs_background": "light"
          }
        }
      ]
    },
    {
      "cell_type": "markdown",
      "metadata": {
        "id": "LjBkjjvfUvMA",
        "colab_type": "text"
      },
      "source": [
        "# Evaluate\n"
      ]
    },
    {
      "cell_type": "code",
      "metadata": {
        "id": "FiaWDMcC_rTZ",
        "colab_type": "code",
        "colab": {
          "base_uri": "https://localhost:8080/",
          "height": 283
        },
        "outputId": "fc3a323b-54dd-41de-b5e5-66c6b043e186"
      },
      "source": [
        "plt.imshow(test_ims[24])"
      ],
      "execution_count": null,
      "outputs": [
        {
          "output_type": "execute_result",
          "data": {
            "text/plain": [
              "<matplotlib.image.AxesImage at 0x7fa63a428198>"
            ]
          },
          "metadata": {
            "tags": []
          },
          "execution_count": 17
        },
        {
          "output_type": "display_data",
          "data": {
            "image/png": "[encoded data removed]",
            "text/plain": [
              "<Figure size 432x288 with 1 Axes>"
            ]
          },
          "metadata": {
            "tags": [],
            "needs_background": "light"
          }
        }
      ]
    },
    {
      "cell_type": "code",
      "metadata": {
        "id": "3bKgcyfQ8VyQ",
        "colab_type": "code",
        "colab": {
          "base_uri": "https://localhost:8080/",
          "height": 35
        },
        "outputId": "66a0e460-50c7-4485-cbea-257c435a9ba5"
      },
      "source": [
        "GROUND_TRUTH = ['M' , '-1' , 'N' , '-1', 'O' , \n",
        "                '-1' , 'P' , '-1' , \n",
        "                'Q' , 'R', '-1' , \n",
        "                'S' , '-1' , 'T' , 'U' , \n",
        "                '-1' , 'V' , '-1' , 'W' , \n",
        "                '-1' , '-1' , 'X' , '-1' ,\n",
        "                'Y' , 'M']\n",
        "\n",
        "len(GROUND_TRUTH)"
      ],
      "execution_count": null,
      "outputs": [
        {
          "output_type": "execute_result",
          "data": {
            "text/plain": [
              "25"
            ]
          },
          "metadata": {
            "tags": []
          },
          "execution_count": 160
        }
      ]
    },
    {
      "cell_type": "code",
      "metadata": {
        "id": "OBwqvv_UZLwP",
        "colab_type": "code",
        "colab": {
          "base_uri": "https://localhost:8080/",
          "height": 35
        },
        "outputId": "c1ec3ae0-9e2f-4a7f-f8b5-4e4873fa0985"
      },
      "source": [
        "predictions = predict(embedds , LETTER_VALUES, cutoff=3.0)"
      ],
      "execution_count": null,
      "outputs": [
        {
          "output_type": "stream",
          "text": [
            "(25, 24, 24)\n"
          ],
          "name": "stdout"
        }
      ]
    },
    {
      "cell_type": "code",
      "metadata": {
        "id": "HZEco9yX_QVB",
        "colab_type": "code",
        "colab": {}
      },
      "source": [
        "def evaluate(X , Y):\n",
        "  counter = 0\n",
        "  for i in range(len(X)):\n",
        "    if X[i] == Y[i]:\n",
        "      counter += 1\n",
        "\n",
        "  return counter / len(X)"
      ],
      "execution_count": null,
      "outputs": []
    },
    {
      "cell_type": "code",
      "metadata": {
        "id": "UtClpTUJCNfU",
        "colab_type": "code",
        "colab": {
          "base_uri": "https://localhost:8080/",
          "height": 35
        },
        "outputId": "1d0dd7c4-47d1-4b76-baeb-c3f27fbcc43b"
      },
      "source": [
        "evaluate(predictions , GROUND_TRUTH)"
      ],
      "execution_count": null,
      "outputs": [
        {
          "output_type": "execute_result",
          "data": {
            "text/plain": [
              "0.68"
            ]
          },
          "metadata": {
            "tags": []
          },
          "execution_count": 24
        }
      ]
    },
    {
      "cell_type": "code",
      "metadata": {
        "id": "PGnA8LlwCpI8",
        "colab_type": "code",
        "colab": {}
      },
      "source": [
        "from sklearn import preprocessing\n",
        "le = preprocessing.LabelEncoder()\n",
        "\n",
        "le.fit(GROUND_TRUTH)\n",
        "\n",
        "transformed_gt = le.transform(GROUND_TRUTH)\n",
        "transformed_pred = le.transform(predictions)"
      ],
      "execution_count": null,
      "outputs": []
    },
    {
      "cell_type": "code",
      "metadata": {
        "id": "srXtSd7KFZPb",
        "colab_type": "code",
        "colab": {
          "base_uri": "https://localhost:8080/",
          "height": 89
        },
        "outputId": "2d32728d-b961-48a7-950e-9c784b5862f1"
      },
      "source": [
        "from sklearn.metrics import precision_recall_fscore_support\n",
        "precision_recall_fscore_support(predictions , GROUND_TRUTH , average='weighted')"
      ],
      "execution_count": null,
      "outputs": [
        {
          "output_type": "stream",
          "text": [
            "/usr/local/lib/python3.6/dist-packages/sklearn/metrics/_classification.py:1272: UndefinedMetricWarning: Recall and F-score are ill-defined and being set to 0.0 in labels with no true samples. Use `zero_division` parameter to control this behavior.\n",
            "  _warn_prf(average, modifier, msg_start, len(result))\n"
          ],
          "name": "stderr"
        },
        {
          "output_type": "execute_result",
          "data": {
            "text/plain": [
              "(0.7381818181818182, 0.68, 0.7066666666666667, None)"
            ]
          },
          "metadata": {
            "tags": []
          },
          "execution_count": 26
        }
      ]
    },
    {
      "cell_type": "markdown",
      "metadata": {
        "id": "oCCFDUGmIA3n",
        "colab_type": "text"
      },
      "source": [
        "# Experiments"
      ]
    },
    {
      "cell_type": "markdown",
      "metadata": {
        "id": "e0oVa09OICx7",
        "colab_type": "text"
      },
      "source": [
        "## Hyperparam Grid Search"
      ]
    },
    {
      "cell_type": "code",
      "metadata": {
        "id": "xLGNImbqIGbO",
        "colab_type": "code",
        "colab": {
          "base_uri": "https://localhost:8080/",
          "height": 1000
        },
        "outputId": "4876171f-5bf4-4384-d97f-6448234ce85b"
      },
      "source": [
        "TEST_PATH = 'testcase1.png'\n",
        "rois = find_rois(TEST_PATH)\n",
        "filtered_rects_test = filter_rois(rois , TEST_PATH)\n",
        "draw_rois(TEST_PATH , filtered_rects_test)\n",
        "\n",
        "BEST_F1 = -1\n",
        "\n",
        "filter_search = [2 , 3 , 4 , 5 , 6]\n",
        "slide_search = [1 , 2 , 3 , 4 , 5]\n",
        "pooling = [0 , 1]\n",
        "\n",
        "genotype = [[0 , 0 , 0]]\n",
        "f1s = []\n",
        "\n",
        "for f in filter_search:\n",
        "  for s in slide_search:  \n",
        "    for p in pooling:\n",
        "      LETTER_VALUES , train_ims = get_embeddings(filtered_rects , 'my-data.png' , mode='TRAIN' , filtersize=f , slide=s , pooling=p)\n",
        "      embedds , test = get_embeddings(filtered_rects_test , TEST_PATH , filtersize=f , slide=s , pooling=p)\n",
        "      print(embedds.shape)\n",
        "      predictions = predict(embedds , LETTER_VALUES, cutoff=3.0)\n",
        "      # transformed_pred = le.transform(predictions)\n",
        "      f1 = precision_recall_fscore_support(predictions , GROUND_TRUTH , average='weighted')[0]\n",
        "      f1s.append(f1)\n",
        "      genotype.append([f , s , p])\n",
        "\n",
        "\n",
        "\n"
      ],
      "execution_count": null,
      "outputs": [
        {
          "output_type": "stream",
          "text": [
            "(25, 27, 27)\n",
            "(25, 27, 27)\n"
          ],
          "name": "stdout"
        },
        {
          "output_type": "stream",
          "text": [
            "/usr/local/lib/python3.6/dist-packages/sklearn/metrics/_classification.py:1272: UndefinedMetricWarning: Recall and F-score are ill-defined and being set to 0.0 in labels with no true samples. Use `zero_division` parameter to control this behavior.\n",
            "  _warn_prf(average, modifier, msg_start, len(result))\n"
          ],
          "name": "stderr"
        },
        {
          "output_type": "stream",
          "text": [
            "(25, 27, 27)\n",
            "(25, 27, 27)\n",
            "(25, 14, 14)\n",
            "(25, 14, 14)\n",
            "(25, 14, 14)\n",
            "(25, 14, 14)\n",
            "(25, 9, 9)\n",
            "(25, 9, 9)\n",
            "(25, 9, 9)\n",
            "(25, 9, 9)\n",
            "(25, 7, 7)\n",
            "(25, 7, 7)\n",
            "(25, 7, 7)\n",
            "(25, 7, 7)\n",
            "(25, 6, 6)\n",
            "(25, 6, 6)\n",
            "(25, 6, 6)\n",
            "(25, 6, 6)\n",
            "(25, 26, 26)\n",
            "(25, 26, 26)\n",
            "(25, 26, 26)\n",
            "(25, 26, 26)\n",
            "(25, 13, 13)\n",
            "(25, 13, 13)\n",
            "(25, 13, 13)\n",
            "(25, 13, 13)\n",
            "(25, 9, 9)\n",
            "(25, 9, 9)\n",
            "(25, 9, 9)\n",
            "(25, 9, 9)\n",
            "(25, 7, 7)\n",
            "(25, 7, 7)\n",
            "(25, 7, 7)\n",
            "(25, 7, 7)\n",
            "(25, 6, 6)\n",
            "(25, 6, 6)\n",
            "(25, 6, 6)\n",
            "(25, 6, 6)\n",
            "(25, 25, 25)\n",
            "(25, 25, 25)\n",
            "(25, 25, 25)\n",
            "(25, 25, 25)\n",
            "(25, 13, 13)\n",
            "(25, 13, 13)\n",
            "(25, 13, 13)\n",
            "(25, 13, 13)\n",
            "(25, 9, 9)\n",
            "(25, 9, 9)\n",
            "(25, 9, 9)\n",
            "(25, 9, 9)\n",
            "(25, 7, 7)\n",
            "(25, 7, 7)\n",
            "(25, 7, 7)\n",
            "(25, 7, 7)\n",
            "(25, 5, 5)\n",
            "(25, 5, 5)\n",
            "(25, 5, 5)\n",
            "(25, 5, 5)\n",
            "(25, 24, 24)\n",
            "(25, 24, 24)\n",
            "(25, 24, 24)\n",
            "(25, 24, 24)\n",
            "(25, 12, 12)\n",
            "(25, 12, 12)\n",
            "(25, 12, 12)\n",
            "(25, 12, 12)\n",
            "(25, 8, 8)\n",
            "(25, 8, 8)\n",
            "(25, 8, 8)\n",
            "(25, 8, 8)\n",
            "(25, 6, 6)\n",
            "(25, 6, 6)\n",
            "(25, 6, 6)\n",
            "(25, 6, 6)\n",
            "(25, 5, 5)\n",
            "(25, 5, 5)\n",
            "(25, 5, 5)\n",
            "(25, 5, 5)\n",
            "(25, 23, 23)\n",
            "(25, 23, 23)\n",
            "(25, 23, 23)\n",
            "(25, 23, 23)\n",
            "(25, 12, 12)\n",
            "(25, 12, 12)\n",
            "(25, 12, 12)\n",
            "(25, 12, 12)\n",
            "(25, 8, 8)\n",
            "(25, 8, 8)\n",
            "(25, 8, 8)\n",
            "(25, 8, 8)\n",
            "(25, 6, 6)\n",
            "(25, 6, 6)\n",
            "(25, 6, 6)\n",
            "(25, 6, 6)\n",
            "(25, 5, 5)\n",
            "(25, 5, 5)\n",
            "(25, 5, 5)\n",
            "(25, 5, 5)\n"
          ],
          "name": "stdout"
        }
      ]
    },
    {
      "cell_type": "code",
      "metadata": {
        "id": "BG7Myu7bMngW",
        "colab_type": "code",
        "colab": {
          "base_uri": "https://localhost:8080/",
          "height": 35
        },
        "outputId": "93192b23-2b7a-4dfb-de3c-3001ad2ed9fb"
      },
      "source": [
        "best = np.argmax(f1s)\n",
        "genotype[best]"
      ],
      "execution_count": null,
      "outputs": [
        {
          "output_type": "execute_result",
          "data": {
            "text/plain": [
              "[3, 5, 0]"
            ]
          },
          "metadata": {
            "tags": []
          },
          "execution_count": 29
        }
      ]
    },
    {
      "cell_type": "code",
      "metadata": {
        "id": "sXBKQwq2goKp",
        "colab_type": "code",
        "colab": {}
      },
      "source": [
        "f1s"
      ],
      "execution_count": null,
      "outputs": []
    },
    {
      "cell_type": "code",
      "metadata": {
        "id": "5BuagzLaQ3C7",
        "colab_type": "code",
        "colab": {
          "base_uri": "https://localhost:8080/",
          "height": 35
        },
        "outputId": "198faa56-6bc9-48e6-feff-c4c415ab8dd5"
      },
      "source": [
        "genenp = np.array(genotype)\n",
        "genenp[:,1].shape"
      ],
      "execution_count": null,
      "outputs": [
        {
          "output_type": "execute_result",
          "data": {
            "text/plain": [
              "(51,)"
            ]
          },
          "metadata": {
            "tags": []
          },
          "execution_count": 33
        }
      ]
    },
    {
      "cell_type": "markdown",
      "metadata": {
        "id": "QkdeFCfLSnMY",
        "colab_type": "text"
      },
      "source": [
        "## Plotting"
      ]
    },
    {
      "cell_type": "code",
      "metadata": {
        "id": "oH7__i9GSol_",
        "colab_type": "code",
        "colab": {
          "base_uri": "https://localhost:8080/",
          "height": 69
        },
        "outputId": "5f19ab63-1df6-4f5a-9be2-3744c9d1594a"
      },
      "source": [
        "sns.set(font_scale=2.5)\n",
        "sns.set_style(\"white\")\n",
        "#!wget https://github.com/Phonbopit/sarabun-webfont/raw/master/fonts/thsarabunnew-webfont.ttf\n",
        "import matplotlib as mpl\n",
        "import matplotlib.font_manager as fm\n",
        "fm.fontManager.ttflist += fm.createFontList(['/content/times new roman.ttf'])\n",
        "mpl.rc('font', family='Serif')\n",
        "\n"
      ],
      "execution_count": null,
      "outputs": [
        {
          "output_type": "stream",
          "text": [
            "/usr/local/lib/python3.6/dist-packages/ipykernel_launcher.py:6: MatplotlibDeprecationWarning: \n",
            "The createFontList function was deprecated in Matplotlib 3.2 and will be removed two minor releases later. Use FontManager.addfont instead.\n",
            "  \n"
          ],
          "name": "stderr"
        }
      ]
    },
    {
      "cell_type": "code",
      "metadata": {
        "id": "JkqpS6wHQjnG",
        "colab_type": "code",
        "colab": {
          "base_uri": "https://localhost:8080/",
          "height": 448
        },
        "outputId": "8b7fac4a-7c90-4ebd-b229-b79af0115286"
      },
      "source": [
        "import seaborn as sns\n",
        "import pandas as pd\n",
        "fig = plt.figure(figsize=(10,7))\n",
        "df = pd.DataFrame({'F1 Score':f1s , 'Filter Width' : genenp[1:,0] , \n",
        "                   'Slide Size':genenp[1:,1] , 'Type of Pooling':genenp[1:,2]})\n",
        "\n",
        "ax = sns.regplot(x=\"Type of Pooling\", y=\"F1 Score\", data=df)\n",
        "plt.savefig('filter.png' , dpi=300)"
      ],
      "execution_count": null,
      "outputs": [
        {
          "output_type": "display_data",
          "data": {
            "image/png": "[encoded data removed]",
            "text/plain": [
              "<Figure size 720x504 with 1 Axes>"
            ]
          },
          "metadata": {
            "tags": []
          }
        }
      ]
    },
    {
      "cell_type": "code",
      "metadata": {
        "id": "zb7vZVQvTNTu",
        "colab_type": "code",
        "colab": {
          "base_uri": "https://localhost:8080/",
          "height": 411
        },
        "outputId": "7eb76a0d-e2ba-4719-dd56-54ac15d69c6c"
      },
      "source": [
        "# libraries\n",
        "from mpl_toolkits.mplot3d import Axes3D\n",
        "import matplotlib.pyplot as plt\n",
        "import numpy as np\n",
        "import pandas as pd\n",
        "fig = plt.figure(figsize=(10,7))\n",
        "# plot\n",
        "ax = fig.add_subplot(111, projection='3d')\n",
        "ax.scatter(df['Filter Width'], df['Slide Size'], df['F1 Score'], c='skyblue', s=60)\n",
        "ax.view_init(30, 185)\n",
        "ax.set_xlabel('Filter Width', fontsize=17)\n",
        "ax.set_ylabel('Slide Size', fontsize=17)\n",
        "ax.set_zlabel('F1 Score', fontsize=17)\n",
        "\n",
        "plt.savefig('filter.png' , dpi=300) "
      ],
      "execution_count": null,
      "outputs": [
        {
          "output_type": "display_data",
          "data": {
            "image/png": "[encoded data removed]",
            "text/plain": [
              "<Figure size 720x504 with 1 Axes>"
            ]
          },
          "metadata": {
            "tags": []
          }
        }
      ]
    },
    {
      "cell_type": "code",
      "metadata": {
        "id": "niLOpMZMo7JQ",
        "colab_type": "code",
        "colab": {}
      },
      "source": [
        "\n",
        "TEST_PATH = 'testcase3.png'\n",
        "rois = find_rois(TEST_PATH)\n",
        "filtered_rects_test = filter_rois(rois , TEST_PATH)\n",
        "\n",
        "LETTER_VALUES , train_ims = get_embeddings(filtered_rects , 'my-data.png' , mode='TRAIN' , filtersize=3 , slide=5 , pooling=0)\n",
        "embedds , test = get_embeddings(filtered_rects_test , TEST_PATH , filtersize=3 , slide=5 , pooling=0)\n",
        "\n",
        "\n"
      ],
      "execution_count": null,
      "outputs": []
    },
    {
      "cell_type": "code",
      "metadata": {
        "id": "ZPlJmG0XrGzz",
        "colab_type": "code",
        "colab": {
          "base_uri": "https://localhost:8080/",
          "height": 90
        },
        "outputId": "869821be-9693-4ebb-f195-68433540d5ab"
      },
      "source": [
        "predictions = predict(embedds , LETTER_VALUES, cutoff=3.0)\n",
        "# transformed_pred = le.transform(predictions)\n",
        "f1_noise = precision_recall_fscore_support(predictions , GROUND_TRUTH , average='weighted')[0]"
      ],
      "execution_count": null,
      "outputs": [
        {
          "output_type": "stream",
          "text": [
            "(24, 6, 6)\n"
          ],
          "name": "stdout"
        },
        {
          "output_type": "stream",
          "text": [
            "/usr/local/lib/python3.6/dist-packages/sklearn/metrics/_classification.py:1272: UndefinedMetricWarning: Recall and F-score are ill-defined and being set to 0.0 in labels with no true samples. Use `zero_division` parameter to control this behavior.\n",
            "  _warn_prf(average, modifier, msg_start, len(result))\n"
          ],
          "name": "stderr"
        }
      ]
    },
    {
      "cell_type": "code",
      "metadata": {
        "id": "Q44_NZKFte2z",
        "colab_type": "code",
        "colab": {}
      },
      "source": [
        "GROUND_TRUTH = ['M' , '-1' , 'N' , '-1', 'O' , \n",
        "                '-1' , 'P' , '-1' , \n",
        "                'Q' , 'R' , \n",
        "                '-1' , 'S' , '-1' , 'T' , \n",
        "                '-1' , 'U' , '-1' , 'V' , \n",
        "                '-1' , 'W' , '-1' , 'X' ,\n",
        "                '-1' , 'M']\n",
        "\n",
        "TEST_PATH = 'resized-letters.png'\n",
        "rois_test = find_rois(TEST_PATH)\n",
        "rois_train = find_rois(IMAGE)\n",
        "filtered_rects = filter_rois(rois_train , IMAGE , threshold=0.0025)\n",
        "\n",
        "filtered_rects_test = filter_rois(rois_test , TEST_PATH , threshold=0.0040)\n",
        "\n",
        "LETTER_VALUES , train_ims = get_embeddings(filtered_rects , 'my-data.png' , mode='TRAIN' , filtersize=3 , slide=5 , pooling=0)\n",
        "embedds , test = get_embeddings(filtered_rects_test , TEST_PATH , filtersize=3 , slide=5 , pooling=0)\n",
        "draw_rois('resized-letters.png' , filtered_rects_test)\n"
      ],
      "execution_count": null,
      "outputs": []
    },
    {
      "cell_type": "code",
      "metadata": {
        "colab_type": "code",
        "id": "MXpETrsxtkZ_",
        "colab": {
          "base_uri": "https://localhost:8080/",
          "height": 89
        },
        "outputId": "b8289873-1a8f-4283-d18a-e2e50667d585"
      },
      "source": [
        "predictions = predict(embedds , LETTER_VALUES, cutoff=3.0)\n",
        "# transformed_pred = le.transform(predictions)\n",
        "f1_scale = precision_recall_fscore_support(predictions , GROUND_TRUTH , average='weighted')[0]"
      ],
      "execution_count": null,
      "outputs": [
        {
          "output_type": "stream",
          "text": [
            "(24, 6, 6)\n"
          ],
          "name": "stdout"
        },
        {
          "output_type": "stream",
          "text": [
            "/usr/local/lib/python3.6/dist-packages/sklearn/metrics/_classification.py:1272: UndefinedMetricWarning: Recall and F-score are ill-defined and being set to 0.0 in labels with no true samples. Use `zero_division` parameter to control this behavior.\n",
            "  _warn_prf(average, modifier, msg_start, len(result))\n"
          ],
          "name": "stderr"
        }
      ]
    },
    {
      "cell_type": "code",
      "metadata": {
        "id": "EddFFj1MNNJq",
        "colab_type": "code",
        "colab": {
          "base_uri": "https://localhost:8080/",
          "height": 35
        },
        "outputId": "6c756e80-060c-4420-8264-9d71bf1d4b69"
      },
      "source": [
        "f1_scale"
      ],
      "execution_count": null,
      "outputs": [
        {
          "output_type": "execute_result",
          "data": {
            "text/plain": [
              "0.9791666666666666"
            ]
          },
          "metadata": {
            "tags": []
          },
          "execution_count": 260
        }
      ]
    },
    {
      "cell_type": "code",
      "metadata": {
        "id": "t1TW3MEtuJ8h",
        "colab_type": "code",
        "colab": {
          "base_uri": "https://localhost:8080/",
          "height": 265
        },
        "outputId": "7f05fe41-85db-4748-ea7e-87cc6a91726e"
      },
      "source": [
        "plt.imshow(embedds[17])\n",
        "plt.axis('off')"
      ],
      "execution_count": null,
      "outputs": [
        {
          "output_type": "execute_result",
          "data": {
            "text/plain": [
              "(-0.5, 5.5, 5.5, -0.5)"
            ]
          },
          "metadata": {
            "tags": []
          },
          "execution_count": 275
        },
        {
          "output_type": "display_data",
          "data": {
            "image/png": "[encoded data removed]",
            "text/plain": [
              "<Figure size 432x288 with 1 Axes>"
            ]
          },
          "metadata": {
            "tags": []
          }
        }
      ]
    },
    {
      "cell_type": "code",
      "metadata": {
        "id": "A_qmJZGAKVSd",
        "colab_type": "code",
        "colab": {
          "base_uri": "https://localhost:8080/",
          "height": 265
        },
        "outputId": "5348b544-1db6-4bb4-9757-e27a7916c901"
      },
      "source": [
        "plt.imshow(LETTER_VALUES['V'])\n",
        "plt.axis('off')"
      ],
      "execution_count": null,
      "outputs": [
        {
          "output_type": "execute_result",
          "data": {
            "text/plain": [
              "(-0.5, 5.5, 5.5, -0.5)"
            ]
          },
          "metadata": {
            "tags": []
          },
          "execution_count": 276
        },
        {
          "output_type": "display_data",
          "data": {
            "image/png": "[encoded data removed]",
            "text/plain": [
              "<Figure size 432x288 with 1 Axes>"
            ]
          },
          "metadata": {
            "tags": []
          }
        }
      ]
    },
    {
      "cell_type": "code",
      "metadata": {
        "id": "Z4QxDvTZDIx3",
        "colab_type": "code",
        "colab": {}
      },
      "source": [
        "draw_rois(IMAGE, filtered_rects)"
      ],
      "execution_count": null,
      "outputs": []
    },
    {
      "cell_type": "code",
      "metadata": {
        "id": "MfXMQWKjHBKe",
        "colab_type": "code",
        "colab": {}
      },
      "source": [
        "df = pd.DataFrame({'Transformation':['Benchmark' , 'Noise' , 'Rotation' , 'Pixel Inversion' , 'Scaling'] , 'F1 Score':[f1 , f1_noise , 0.75 , f1 , f1_scale]})"
      ],
      "execution_count": null,
      "outputs": []
    },
    {
      "cell_type": "code",
      "metadata": {
        "id": "Sb_BXRLnH48g",
        "colab_type": "code",
        "colab": {}
      },
      "source": [
        "df['F1 Score']"
      ],
      "execution_count": null,
      "outputs": []
    },
    {
      "cell_type": "code",
      "metadata": {
        "id": "Zwa1_bDWHqb4",
        "colab_type": "code",
        "colab": {
          "base_uri": "https://localhost:8080/",
          "height": 643
        },
        "outputId": "1e1193dd-2863-43b6-989c-ff6698e5ee7a"
      },
      "source": [
        "plt.figure(figsize=(20,10))\n",
        "ax = sns.barplot(x=\"Transformation\", y=\"F1 Score\", data=df)\n",
        "plt.savefig('compare.png')"
      ],
      "execution_count": null,
      "outputs": [
        {
          "output_type": "display_data",
          "data": {
            "image/png": "[encoded data removed]",
            "text/plain": [
              "<Figure size 1440x720 with 1 Axes>"
            ]
          },
          "metadata": {
            "tags": []
          }
        }
      ]
    }
  ]
}